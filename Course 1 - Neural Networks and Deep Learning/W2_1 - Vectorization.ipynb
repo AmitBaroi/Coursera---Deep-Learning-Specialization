{
 "cells": [
  {
   "cell_type": "code",
   "execution_count": 1,
   "metadata": {},
   "outputs": [],
   "source": [
    "import numpy as np\n",
    "import time"
   ]
  },
  {
   "cell_type": "markdown",
   "metadata": {},
   "source": [
    "# Why Vectorization?\n",
    "Without vectorized operations, we have to use nested for loops to do the same operations. Python for loops are notoriously slow, so we will use Numpy arrays to vectorize our matrix, vector operations. This also makes our code alot less verbose, more meaningful and consise.\n",
    "\n",
    "Initializing two random arrays with 1 million entries "
   ]
  },
  {
   "cell_type": "code",
   "execution_count": 2,
   "metadata": {},
   "outputs": [],
   "source": [
    "a = np.random.rand(1000000)\n",
    "b = np.random.rand(1000000)"
   ]
  },
  {
   "cell_type": "markdown",
   "metadata": {},
   "source": [
    "### Vectorized operation"
   ]
  },
  {
   "cell_type": "code",
   "execution_count": 3,
   "metadata": {},
   "outputs": [
    {
     "name": "stdout",
     "output_type": "stream",
     "text": [
      "Vectorized version: 2.000093460083008 ms\n"
     ]
    }
   ],
   "source": [
    "tic = time.time()\n",
    "\n",
    "# Vectorized\n",
    "c1 = np.dot(a, b)\n",
    "\n",
    "toc = time.time()\n",
    "\n",
    "print(\"Vectorized version:\", (str(1000*(toc-tic))), \"ms\")"
   ]
  },
  {
   "cell_type": "markdown",
   "metadata": {},
   "source": [
    "### Non-vectorized version"
   ]
  },
  {
   "cell_type": "code",
   "execution_count": 4,
   "metadata": {},
   "outputs": [
    {
     "name": "stdout",
     "output_type": "stream",
     "text": [
      "For loop version: 780.0447940826416 ms\n"
     ]
    }
   ],
   "source": [
    "c2 = 0\n",
    "\n",
    "tic = time.time()\n",
    "\n",
    "# Non-vectorized\n",
    "for i in range(1000000):\n",
    "    c2 += a[i] * b[i]\n",
    "\n",
    "toc = time.time()\n",
    "\n",
    "print(\"For loop version:\", (str(1000*(toc-tic))), \"ms\")"
   ]
  },
  {
   "cell_type": "code",
   "execution_count": 5,
   "metadata": {},
   "outputs": [
    {
     "name": "stdout",
     "output_type": "stream",
     "text": [
      "249493.23722222738\n",
      "249493.23722222165\n"
     ]
    }
   ],
   "source": [
    "print(c1) # Vectorized\n",
    "print(c2) # Non-vectorized"
   ]
  },
  {
   "cell_type": "markdown",
   "metadata": {},
   "source": [
    "### Practice:"
   ]
  },
  {
   "cell_type": "code",
   "execution_count": 6,
   "metadata": {},
   "outputs": [],
   "source": [
    "X = np.array([2, 4, 6, 8, 10])\n",
    "w = np.array([2, 3, 4, 5, 6])\n",
    "b = 5"
   ]
  },
  {
   "cell_type": "code",
   "execution_count": 7,
   "metadata": {},
   "outputs": [
    {
     "name": "stdout",
     "output_type": "stream",
     "text": [
      "145\n"
     ]
    }
   ],
   "source": [
    "# Linear prediction functin\n",
    "z = np.dot(w.T, X) + b\n",
    "print(z)"
   ]
  }
 ],
 "metadata": {
  "kernelspec": {
   "display_name": "Python 3.6 (tf_env)",
   "language": "python",
   "name": "tf_env"
  },
  "language_info": {
   "codemirror_mode": {
    "name": "ipython",
    "version": 3
   },
   "file_extension": ".py",
   "mimetype": "text/x-python",
   "name": "python",
   "nbconvert_exporter": "python",
   "pygments_lexer": "ipython3",
   "version": "3.6.9"
  }
 },
 "nbformat": 4,
 "nbformat_minor": 2
}
