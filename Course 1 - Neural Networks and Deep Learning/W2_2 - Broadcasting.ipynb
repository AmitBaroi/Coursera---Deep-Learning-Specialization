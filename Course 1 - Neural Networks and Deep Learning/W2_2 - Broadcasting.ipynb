{
 "cells": [
  {
   "cell_type": "code",
   "execution_count": 1,
   "metadata": {},
   "outputs": [],
   "source": [
    "import numpy as np"
   ]
  },
  {
   "cell_type": "markdown",
   "metadata": {},
   "source": [
    "We can think of broadcasting as a linear algebra version of Python's upcasting feature"
   ]
  },
  {
   "cell_type": "code",
   "execution_count": 2,
   "metadata": {},
   "outputs": [],
   "source": [
    "A = np.array([\n",
    "    [56.0, 0.0, 4.4, 68.0],\n",
    "    [1.2, 104.0, 52.0, 8.0],\n",
    "    [1.8, 135.0, 99.0, 0.9]\n",
    "])"
   ]
  },
  {
   "cell_type": "code",
   "execution_count": 3,
   "metadata": {},
   "outputs": [
    {
     "name": "stdout",
     "output_type": "stream",
     "text": [
      "[[ 56.    0.    4.4  68. ]\n",
      " [  1.2 104.   52.    8. ]\n",
      " [  1.8 135.   99.    0.9]]\n",
      "---------------------------\n",
      "[ 59.  239.  155.4  76.9]\n"
     ]
    }
   ],
   "source": [
    "print(A)\n",
    "print(\"---------------------------\")\n",
    "\n",
    "# Vertical sum\n",
    "cal = A.sum(axis=0)\n",
    "print(cal)"
   ]
  },
  {
   "cell_type": "code",
   "execution_count": 4,
   "metadata": {},
   "outputs": [
    {
     "name": "stdout",
     "output_type": "stream",
     "text": [
      "[[0.94915254 0.         0.02831403 0.88426528]\n",
      " [0.02033898 0.43514644 0.33462033 0.10403121]\n",
      " [0.03050847 0.56485356 0.63706564 0.01170351]]\n"
     ]
    }
   ],
   "source": [
    "percentage = A / cal\n",
    "print(percentage)"
   ]
  },
  {
   "cell_type": "markdown",
   "metadata": {},
   "source": [
    "#### Generation Broadcasting Principle\n",
    "- If we have an $(m, n)$ matrix and perform an operation on it with a $(1, n)$ matrix Python will broadcast the $(1, n)$ to be $(m, n)$ then perform the operation.\n",
    "\n",
    "\n",
    "- If we have an $(m, n)$ matrix and perform an operation on it with a $(m, 1)$ matrix Python will broadcast the $(m, 1)$ to be $(m, n)$ then perform the operation."
   ]
  }
 ],
 "metadata": {
  "kernelspec": {
   "display_name": "Python 3.6 (tf_env)",
   "language": "python",
   "name": "tf_env"
  },
  "language_info": {
   "codemirror_mode": {
    "name": "ipython",
    "version": 3
   },
   "file_extension": ".py",
   "mimetype": "text/x-python",
   "name": "python",
   "nbconvert_exporter": "python",
   "pygments_lexer": "ipython3",
   "version": "3.6.9"
  }
 },
 "nbformat": 4,
 "nbformat_minor": 2
}
