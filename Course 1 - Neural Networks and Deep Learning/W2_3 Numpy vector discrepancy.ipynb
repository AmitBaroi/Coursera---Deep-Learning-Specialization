{
 "cells": [
  {
   "cell_type": "markdown",
   "metadata": {},
   "source": [
    "### Discrepancies in Numpy\n",
    "Numpy arrays are supposed to be representations of vectors and matrices. However, they can behave in ways that are un-intuitive to linear algebra students. Here are a few important notes to remember."
   ]
  },
  {
   "cell_type": "code",
   "execution_count": 1,
   "metadata": {},
   "outputs": [],
   "source": [
    "import numpy as np"
   ]
  },
  {
   "cell_type": "code",
   "execution_count": 2,
   "metadata": {},
   "outputs": [
    {
     "name": "stdout",
     "output_type": "stream",
     "text": [
      "[-0.37719234 -0.24767503 -0.31104359  1.85906984 -1.13243388]\n"
     ]
    }
   ],
   "source": [
    "a = np.random.randn(5)\n",
    "print(a)"
   ]
  },
  {
   "cell_type": "code",
   "execution_count": 3,
   "metadata": {},
   "outputs": [
    {
     "name": "stdout",
     "output_type": "stream",
     "text": [
      "(5,)\n"
     ]
    }
   ],
   "source": [
    "print(a.shape)"
   ]
  },
  {
   "cell_type": "markdown",
   "metadata": {},
   "source": [
    "We see that the shape of this array is $(5,)$. This is called a ___Rank 1 Array___ and is neither a row vector or a column vector."
   ]
  },
  {
   "cell_type": "code",
   "execution_count": 4,
   "metadata": {},
   "outputs": [
    {
     "name": "stdout",
     "output_type": "stream",
     "text": [
      "[-0.37719234 -0.24767503 -0.31104359  1.85906984 -1.13243388] shape: (5,)\n",
      "[-0.37719234 -0.24767503 -0.31104359  1.85906984 -1.13243388] shape: (5,)\n"
     ]
    }
   ],
   "source": [
    "print(a, \"shape:\", a.shape)\n",
    "print(a.T, \"shape:\", a.T.shape)"
   ]
  },
  {
   "cell_type": "markdown",
   "metadata": {},
   "source": [
    "As we can see that a rank 1 array has no transpose, or its transpose is the same shape as its regular shape $(5,)$.\n",
    "\n",
    "We might think that the dot product of `a` and `a.T` is a 5x5 matrix. But Numpy returns a number:"
   ]
  },
  {
   "cell_type": "code",
   "execution_count": 5,
   "metadata": {},
   "outputs": [
    {
     "name": "stdout",
     "output_type": "stream",
     "text": [
      "5.038912251082007\n"
     ]
    }
   ],
   "source": [
    "print(np.dot(a, a.T))"
   ]
  },
  {
   "cell_type": "markdown",
   "metadata": {},
   "source": [
    "__Therefore we should explicitly shape (or reshape) our arrays:__"
   ]
  },
  {
   "cell_type": "code",
   "execution_count": 6,
   "metadata": {},
   "outputs": [
    {
     "name": "stdout",
     "output_type": "stream",
     "text": [
      "[[ 0.21928376]\n",
      " [ 1.03788595]\n",
      " [ 2.27532313]\n",
      " [ 1.80867954]\n",
      " [-0.72628558]]\n"
     ]
    }
   ],
   "source": [
    "a = np.random.randn(5, 1)\n",
    "\n",
    "print(a)"
   ]
  },
  {
   "cell_type": "markdown",
   "metadata": {},
   "source": [
    "Now `a` is a column vector."
   ]
  },
  {
   "cell_type": "code",
   "execution_count": 7,
   "metadata": {},
   "outputs": [
    {
     "name": "stdout",
     "output_type": "stream",
     "text": [
      "[[ 0.21928376  1.03788595  2.27532313  1.80867954 -0.72628558]]\n"
     ]
    }
   ],
   "source": [
    "print(a.T)"
   ]
  },
  {
   "cell_type": "markdown",
   "metadata": {},
   "source": [
    "So its transpose is a row vector."
   ]
  },
  {
   "cell_type": "code",
   "execution_count": 8,
   "metadata": {},
   "outputs": [
    {
     "name": "stdout",
     "output_type": "stream",
     "text": [
      "[[ 0.04808537  0.22759154  0.49894142  0.39661406 -0.15926264]\n",
      " [ 0.22759154  1.07720724  2.36152591  1.87720308 -0.7538016 ]\n",
      " [ 0.49894142  2.36152591  5.17709537  4.1153304  -1.65253439]\n",
      " [ 0.39661406  1.87720308  4.1153304   3.27132168 -1.31361787]\n",
      " [-0.15926264 -0.7538016  -1.65253439 -1.31361787  0.52749075]]\n"
     ]
    }
   ],
   "source": [
    "print(np.dot(a, a.T))"
   ]
  },
  {
   "cell_type": "markdown",
   "metadata": {},
   "source": [
    "Now, the dot product of `a` and `a.T` is their outter product, a $(5, 5)$ matrix."
   ]
  }
 ],
 "metadata": {
  "kernelspec": {
   "display_name": "Python 3.6 (tf_env)",
   "language": "python",
   "name": "tf_env"
  },
  "language_info": {
   "codemirror_mode": {
    "name": "ipython",
    "version": 3
   },
   "file_extension": ".py",
   "mimetype": "text/x-python",
   "name": "python",
   "nbconvert_exporter": "python",
   "pygments_lexer": "ipython3",
   "version": "3.6.9"
  }
 },
 "nbformat": 4,
 "nbformat_minor": 2
}
